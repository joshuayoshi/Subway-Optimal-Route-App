{
 "cells": [
  {
   "cell_type": "code",
   "execution_count": 1,
   "id": "b768c8d0-74ab-47c7-ab4e-75c665ce904e",
   "metadata": {},
   "outputs": [
    {
     "name": "stdout",
     "output_type": "stream",
     "text": [
      "['a', 'b', 'h']\n",
      "['d', 'e', 'a', 'n']\n",
      "['h', 'b', 'e', 'j', 'k', 'l', 'm']\n"
     ]
    }
   ],
   "source": [
    "line1 = [\"a\", \"b\", \"f\", \"d\", \"e\"]\n",
    "line2 = [\"c\", \"e\", \"j\", \"g\", \"i\"]\n",
    "line3 = [\"c\", \"j\", \"k\", \"l\", \"m\"]\n",
    "line4 = [\"h\", \"b\", \"e\", \"a\", \"n\"]\n",
    "\n",
    "stations = [\"a\", \"b\", \"c\", \"d\", \"e\", \"f\", \"g\", \"h\", \"i\", \"j\", \"k\", \"l\", \"m\", \"n\"]\n",
    "allLines = [line1, line2, line3, line4]\n",
    "nodeGraph = {}\n",
    "\n",
    "def getList(letter):\n",
    "  neighbors = []\n",
    "  for i in allLines:\n",
    "     if letter in i:\n",
    "        pos = i.index(letter)\n",
    "        if pos == 0:\n",
    "            neighbors.append(i[pos+1])\n",
    "        elif pos == len(i) - 1:\n",
    "            neighbors.append(i[pos-1])\n",
    "        elif pos > 0 and pos < len(i) - 1:\n",
    "            neighbors.append(i[pos-1])\n",
    "            neighbors.append(i[pos+1])\n",
    "  return neighbors\n",
    "\n",
    "for station in stations:\n",
    "   nodeGraph[station] = getList(station)\n",
    "\n",
    "def shortPath(origin, destination, *lines):\n",
    "    paths = [[origin]]        # start from origin\n",
    "    visited = set()             # only extend once per station\n",
    "    while paths:                 # until no more extensions\n",
    "        path = paths.pop(0)                   # shortest paths first\n",
    "        if path[-1]==destination: return path # arrived!\n",
    "        for line in lines:                    # find a transfer \n",
    "            if path[-1] not in line:continue  # no transfer on line\n",
    "            i = line.index(path[-1])          # from station's location\n",
    "            for station in line[i-1:i]+line[i+1:i+2]: # previous/next stations\n",
    "                if station in visited : continue # already been there\n",
    "                paths.append(path + [station])   # add longer path\n",
    "                visited.add(station)\n",
    "    return [] # no path to destination\n",
    "\n",
    "print(shortPath(\"a\",\"h\",line1,line2,line3,line4))\n",
    "# ['a', 'b', 'h']\n",
    "\n",
    "print(shortPath(\"d\",\"n\",line1,line2,line3,line4))\n",
    "# ['d', 'e', 'a', 'n']\n",
    "\n",
    "print(shortPath(\"h\",\"m\",line1,line2,line3,line4))\n",
    "# ['h', 'b', 'e', 'j', 'k', 'l', 'm']  "
   ]
  },
  {
   "cell_type": "code",
   "execution_count": null,
   "id": "7e737d3f-a04d-4c4f-81aa-0fb0375d88ea",
   "metadata": {},
   "outputs": [],
   "source": []
  }
 ],
 "metadata": {
  "kernelspec": {
   "display_name": "Python 3 (ipykernel)",
   "language": "python",
   "name": "python3"
  },
  "language_info": {
   "codemirror_mode": {
    "name": "ipython",
    "version": 3
   },
   "file_extension": ".py",
   "mimetype": "text/x-python",
   "name": "python",
   "nbconvert_exporter": "python",
   "pygments_lexer": "ipython3",
   "version": "3.9.12"
  }
 },
 "nbformat": 4,
 "nbformat_minor": 5
}
